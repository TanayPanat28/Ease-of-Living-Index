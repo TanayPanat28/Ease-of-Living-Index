{
 "cells": [
  {
   "cell_type": "code",
   "execution_count": 1,
   "metadata": {},
   "outputs": [],
   "source": [
    "import pandas as pd\n",
    "from sklearn.decomposition import PCA\n",
    "import matplotlib.pyplot as plt\n",
    "import scipy.stats as stats\n",
    "from sklearn.preprocessing import StandardScaler\n",
    "from factor_analyzer.factor_analyzer import calculate_kmo\n",
    "from sklearn.decomposition import FactorAnalysis"
   ]
  },
  {
   "cell_type": "code",
   "execution_count": 2,
   "metadata": {},
   "outputs": [
    {
     "name": "stdout",
     "output_type": "stream",
     "text": [
      "PC1: 78.38% variance explained\n",
      "PC2: 8.50% variance explained\n",
      "PC3: 4.12% variance explained\n",
      "PC4: 3.62% variance explained\n",
      "PC5: 2.30% variance explained\n",
      "PC6: 1.75% variance explained\n",
      "PC7: 0.97% variance explained\n",
      "PC8: 0.37% variance explained\n"
     ]
    }
   ],
   "source": [
    "data = pd.read_csv(\"Imputed_Quality_of_Life.csv\")\n",
    "\n",
    "numeric_data = data.drop(columns=['Country', 'Year'])\n",
    "\n",
    "numeric_data_standardized = (numeric_data - numeric_data.mean()) / numeric_data.std()\n",
    "\n",
    "pca = PCA()\n",
    "pca.fit(numeric_data_standardized)\n",
    "\n",
    "explained_variance_ratio = pca.explained_variance_ratio_\n",
    "eigenvalues = pca.explained_variance_\n",
    "\n",
    "for i, var in enumerate(explained_variance_ratio, start=1):\n",
    "    print(f\"PC{i}: {var * 100:.2f}% variance explained\")"
   ]
  },
  {
   "cell_type": "markdown",
   "metadata": {},
   "source": [
    "#### Implementing Factor Analysis"
   ]
  },
  {
   "cell_type": "code",
   "execution_count": 3,
   "metadata": {},
   "outputs": [
    {
     "data": {
      "text/plain": [
       "np.float64(0.8937336370938704)"
      ]
     },
     "execution_count": 3,
     "metadata": {},
     "output_type": "execute_result"
    }
   ],
   "source": [
    "scaler = StandardScaler()\n",
    "df_scaled = scaler.fit_transform(numeric_data)\n",
    "\n",
    "kmo_all,kmo_model=calculate_kmo(df_scaled)\n",
    "kmo_model"
   ]
  },
  {
   "cell_type": "code",
   "execution_count": 4,
   "metadata": {},
   "outputs": [
    {
     "data": {
      "text/plain": [
       "array([6.27010099, 0.67968385, 0.32962708, 0.28931542, 0.18370898,\n",
       "       0.13976188, 0.07789926, 0.02990254])"
      ]
     },
     "execution_count": 4,
     "metadata": {},
     "output_type": "execute_result"
    }
   ],
   "source": [
    "from factor_analyzer import FactorAnalyzer\n",
    "fa = FactorAnalyzer()\n",
    "fa.fit(df_scaled)\n",
    "eigen_values, vectors = fa.get_eigenvalues()\n",
    "eigen_values"
   ]
  },
  {
   "cell_type": "code",
   "execution_count": 5,
   "metadata": {},
   "outputs": [
    {
     "data": {
      "image/png": "[encoded data removed]",
      "text/plain": [
       "<Figure size 640x480 with 1 Axes>"
      ]
     },
     "metadata": {},
     "output_type": "display_data"
    }
   ],
   "source": [
    "import matplotlib.pyplot as plt\n",
    "plt.scatter(range(1,df_scaled.shape[1]+1),eigen_values)\n",
    "plt.plot(range(1,df_scaled.shape[1]+1),eigen_values)\n",
    "plt.title('Scree Plot')\n",
    "plt.xlabel('Factors')\n",
    "plt.ylabel('Eigenvalue')\n",
    "plt.show()"
   ]
  },
  {
   "cell_type": "code",
   "execution_count": 7,
   "metadata": {},
   "outputs": [],
   "source": [
    "columns_for_fa = [\n",
    "        'LE_at_birth','Doctors_Per_10000','Access_to_Electricity',\n",
    "        'Gender_Development_Index','Gender_Inequality_Index','Human_Development_Index','Health_Care_Index','Crime_Index'\n",
    "]\n",
    "\n",
    "data_filled = data[columns_for_fa]\n",
    "\n",
    "scaler = StandardScaler()\n",
    "data_scaled = scaler.fit_transform(data_filled)\n",
    "\n",
    "fa = FactorAnalysis(n_components=1)\n",
    "\n",
    "factor_scores = fa.fit_transform(data_scaled)\n",
    "\n",
    "data['QOLI_Index_FA'] = factor_scores.round(3)\n",
    "\n",
    "pca = PCA(n_components=1)\n",
    "pca_scores = pca.fit_transform(data_scaled)\n",
    "data['QOLI_Index_PCA'] = pca_scores.round(3)\n",
    "\n",
    "data.to_csv(\"QOLI_Index.csv\", index=False)"
   ]
  },
  {
   "cell_type": "code",
   "execution_count": null,
   "metadata": {},
   "outputs": [],
   "source": []
  }
 ],
 "metadata": {
  "kernelspec": {
   "display_name": "Python 3",
   "language": "python",
   "name": "python3"
  },
  "language_info": {
   "codemirror_mode": {
    "name": "ipython",
    "version": 3
   },
   "file_extension": ".py",
   "mimetype": "text/x-python",
   "name": "python",
   "nbconvert_exporter": "python",
   "pygments_lexer": "ipython3",
   "version": "3.11.9"
  }
 },
 "nbformat": 4,
 "nbformat_minor": 2
}
