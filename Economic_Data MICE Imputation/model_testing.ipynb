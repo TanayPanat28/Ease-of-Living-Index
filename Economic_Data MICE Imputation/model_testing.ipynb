{
 "cells": [
  {
   "cell_type": "code",
   "execution_count": 2,
   "metadata": {},
   "outputs": [
    {
     "name": "stdout",
     "output_type": "stream",
     "text": [
      "Country                          0.00\n",
      "Year                             0.00\n",
      "GDP_Growth_Rate                  2.82\n",
      "Inflation_Rate                  21.83\n",
      "GDP_Per_Capita                   4.80\n",
      "Unemployment_Rate               41.29\n",
      "Cost of Living Index            87.58\n",
      "Local Purchasing Power Index    87.58\n",
      "dtype: float64\n"
     ]
    }
   ],
   "source": [
    "import pandas as pd\n",
    "\n",
    "data = pd.read_csv(\"Economic_data.csv\")\n",
    "\n",
    "missing_data_percentage = (data.isna().mean() * 100).round(2)\n",
    "\n",
    "print(missing_data_percentage)"
   ]
  },
  {
   "cell_type": "markdown",
   "metadata": {},
   "source": [
    "As we can observe from the above table that the percentage of missing data for GDP_Growth_Rate and GDP_Per_Capita \n",
    "is the lowest so we will be taking these two columns as our base data. Then we will be dropping the NA values from these columns. Furthermore, we will delete some of the values at rendom from these columns to test our imputation techniques. We will sort of create the synthetic data and then impute on that to compare it with out original data."
   ]
  },
  {
   "cell_type": "markdown",
   "metadata": {},
   "source": [
    "#### Creating the synthetic data"
   ]
  },
  {
   "cell_type": "code",
   "execution_count": 7,
   "metadata": {},
   "outputs": [],
   "source": [
    "import numpy as np\n",
    "base_data = data[['GDP_Growth_Rate', 'GDP_Per_Capita']].dropna()\n",
    "\n",
    "np.random.seed(76)\n",
    "remove_percentage = 0.3\n",
    "total_values_gdp_growth = base_data['GDP_Growth_Rate'].shape[0]\n",
    "total_values_gdp_per_capita = base_data['GDP_Per_Capita'].shape[0]\n",
    "\n",
    "num_gdp_growth = int(remove_percentage * total_values_gdp_growth)\n",
    "num_gdp_per_capita = int(remove_percentage * total_values_gdp_per_capita)\n",
    "\n",
    "gdp_growth_nan_indices = np.random.choice(base_data.index, num_gdp_growth, replace=False)\n",
    "gdp_per_capita_nan_indices = np.random.choice(base_data.index, num_gdp_per_capita, replace=False)\n",
    "\n",
    "base_data.loc[gdp_growth_nan_indices, 'GDP_Growth_Rate'] = np.nan\n",
    "base_data.loc[gdp_per_capita_nan_indices, 'GDP_Per_Capita'] = np.nan\n",
    "\n",
    "base_data.to_csv(\"synthetic_data.csv\",index=False)"
   ]
  },
  {
   "cell_type": "code",
   "execution_count": 9,
   "metadata": {},
   "outputs": [],
   "source": [
    "syn_test = data[['GDP_Growth_Rate', 'GDP_Per_Capita']].dropna()\n",
    "syn_test.to_csv(\"synthetic_data_full.csv\",index=False)"
   ]
  },
  {
   "cell_type": "markdown",
   "metadata": {},
   "source": [
    "#### Creating a data_imputation model for synthetic data"
   ]
  },
  {
   "cell_type": "code",
   "execution_count": 13,
   "metadata": {},
   "outputs": [],
   "source": [
    "data = pd.read_csv(\"synthetic_data.csv\")\n",
    "\n",
    "import miceforest as mf\n",
    "import matplotlib.pyplot as plt\n",
    "\n",
    "kernel = mf.ImputationKernel(\n",
    "    data,\n",
    "    num_datasets = 1, \n",
    "    mean_match_candidates=0,\n",
    "    random_state = 34\n",
    "    )\n",
    "\n",
    "kernel.mice(30)\n",
    "imputed_data = kernel.complete_data(0)\n",
    "\n",
    "imputed_data.to_csv('imputed_synthetic_data.csv', index=False)"
   ]
  },
  {
   "cell_type": "code",
   "execution_count": 16,
   "metadata": {},
   "outputs": [
    {
     "name": "stdout",
     "output_type": "stream",
     "text": [
      "R² Scores:\n",
      "{'GDP_Growth_Rate': 0.73, 'GDP_Per_Capita': 0.66}\n",
      "\n",
      "RMSE Scores:\n",
      "{'GDP_Growth_Rate': 3.37, 'GDP_Per_Capita': 10071.25}\n",
      "\n",
      "MAE Scores:\n",
      "{'GDP_Growth_Rate': 1.12, 'GDP_Per_Capita': 3883.81}\n"
     ]
    }
   ],
   "source": [
    "from sklearn.metrics import r2_score, mean_squared_error, mean_absolute_error\n",
    "\n",
    "synthetic_data_full = pd.read_csv('synthetic_data_full.csv')\n",
    "imputed_synthetic_data = pd.read_csv('imputed_synthetic_data.csv')\n",
    "\n",
    "columns_to_evaluate = ['GDP_Growth_Rate', 'GDP_Per_Capita']\n",
    "\n",
    "r2_results = {}\n",
    "rmse_results = {}\n",
    "mae_results = {}\n",
    "\n",
    "for column in columns_to_evaluate:\n",
    "    original_values = synthetic_data_full[column]\n",
    "    imputed_values = imputed_synthetic_data[column]\n",
    "\n",
    "    missing_indices = original_values.isna()\n",
    "    original_values_non_missing = original_values[~missing_indices]\n",
    "    imputed_values_non_missing = imputed_values[~missing_indices]\n",
    "\n",
    "    r2 = r2_score(original_values_non_missing, imputed_values_non_missing)\n",
    "    r2_results[column] = round(r2, 2)\n",
    "\n",
    "    rmse = np.sqrt(mean_squared_error(original_values_non_missing, imputed_values_non_missing))\n",
    "    rmse_results[column] = round(rmse, 2)\n",
    "\n",
    "    mae = mean_absolute_error(original_values_non_missing, imputed_values_non_missing)\n",
    "    mae_results[column] = round(mae, 2)\n",
    "\n",
    "print(\"R² Scores:\")\n",
    "print(r2_results)\n",
    "\n",
    "print(\"\\nRMSE Scores:\")\n",
    "print(rmse_results)\n",
    "\n",
    "print(\"\\nMAE Scores:\")\n",
    "print(mae_results)"
   ]
  },
  {
   "cell_type": "code",
   "execution_count": 2,
   "metadata": {},
   "outputs": [
    {
     "name": "stdout",
     "output_type": "stream",
     "text": [
      "  Metric           Column  Mean Value  Standard Deviation\n",
      "0     R²  GDP_Growth_Rate        0.51                0.04\n",
      "1   RMSE  GDP_Growth_Rate        4.51                0.17\n",
      "2    MAE  GDP_Growth_Rate        1.92                0.03\n",
      "3     R²   GDP_Per_Capita        0.51                0.03\n",
      "4   RMSE   GDP_Per_Capita    12004.46              355.89\n",
      "5    MAE   GDP_Per_Capita     5408.87               56.89\n"
     ]
    }
   ],
   "source": [
    "import pandas as pd\n",
    "import numpy as np\n",
    "import random\n",
    "import miceforest as mf\n",
    "from sklearn.metrics import r2_score, mean_squared_error, mean_absolute_error\n",
    "\n",
    "# Load full synthetic dataset for initial base\n",
    "original_data = pd.read_csv(\"synthetic_data.csv\")\n",
    "synthetic_data_full = pd.read_csv(\"synthetic_data_full.csv\")\n",
    "\n",
    "# Specify columns to evaluate\n",
    "columns_to_evaluate = ['GDP_Growth_Rate', 'GDP_Per_Capita']\n",
    "\n",
    "# Dictionaries to store metrics across iterations\n",
    "r2_all_iterations = {col: [] for col in columns_to_evaluate}\n",
    "rmse_all_iterations = {col: [] for col in columns_to_evaluate}\n",
    "mae_all_iterations = {col: [] for col in columns_to_evaluate}\n",
    "\n",
    "# Parameters for random NaN generation\n",
    "remove_percentage = 0.3\n",
    "total_values_gdp_growth = original_data['GDP_Growth_Rate'].shape[0]\n",
    "total_values_gdp_per_capita = original_data['GDP_Per_Capita'].shape[0]\n",
    "num_gdp_growth = int(remove_percentage * total_values_gdp_growth)\n",
    "num_gdp_per_capita = int(remove_percentage * total_values_gdp_per_capita)\n",
    "\n",
    "# Run MICE imputation for 30 iterations with random NaN values\n",
    "for i in range(30):\n",
    "    # Create a copy of the data to introduce NaN values\n",
    "    data = original_data.copy()\n",
    "    \n",
    "    # Randomly select indices to set as NaN for each iteration\n",
    "    gdp_growth_nan_indices = random.sample(list(data.index), num_gdp_growth)\n",
    "    gdp_per_capita_nan_indices = random.sample(list(data.index), num_gdp_per_capita)\n",
    "    data.loc[gdp_growth_nan_indices, 'GDP_Growth_Rate'] = np.nan\n",
    "    data.loc[gdp_per_capita_nan_indices, 'GDP_Per_Capita'] = np.nan\n",
    "    \n",
    "    # Initialize the kernel and perform MICE for 1 iteration\n",
    "    kernel = mf.ImputationKernel(data, num_datasets=1, mean_match_candidates=0, random_state=34)\n",
    "    kernel.mice(1)\n",
    "    \n",
    "    # Get the completed dataset\n",
    "    imputed_data = kernel.complete_data(0)\n",
    "    \n",
    "    # Calculate metrics for each specified column\n",
    "    for column in columns_to_evaluate:\n",
    "        original_values = synthetic_data_full[column]\n",
    "        imputed_values = imputed_data[column]\n",
    "\n",
    "        # Get non-missing values\n",
    "        missing_indices = original_values.isna()\n",
    "        original_values_non_missing = original_values[~missing_indices]\n",
    "        imputed_values_non_missing = imputed_values[~missing_indices]\n",
    "\n",
    "        # R² score\n",
    "        r2 = r2_score(original_values_non_missing, imputed_values_non_missing)\n",
    "        r2_all_iterations[column].append(r2)\n",
    "\n",
    "        # RMSE\n",
    "        rmse = np.sqrt(mean_squared_error(original_values_non_missing, imputed_values_non_missing))\n",
    "        rmse_all_iterations[column].append(rmse)\n",
    "\n",
    "        # MAE\n",
    "        mae = mean_absolute_error(original_values_non_missing, imputed_values_non_missing)\n",
    "        mae_all_iterations[column].append(mae)\n",
    "\n",
    "# Calculate mean and standard deviation of metrics across iterations\n",
    "metrics_summary = {\n",
    "    \"Metric\": [],\n",
    "    \"Column\": [],\n",
    "    \"Mean Value\": [],\n",
    "    \"Standard Deviation\": []\n",
    "}\n",
    "\n",
    "# Aggregating results for R², RMSE, and MAE\n",
    "for column in columns_to_evaluate:\n",
    "    for metric, values_dict in zip([\"R²\", \"RMSE\", \"MAE\"], [r2_all_iterations, rmse_all_iterations, mae_all_iterations]):\n",
    "        mean_val = np.mean(values_dict[column])\n",
    "        std_dev = np.std(values_dict[column])\n",
    "        \n",
    "        metrics_summary[\"Metric\"].append(metric)\n",
    "        metrics_summary[\"Column\"].append(column)\n",
    "        metrics_summary[\"Mean Value\"].append(round(mean_val, 2))\n",
    "        metrics_summary[\"Standard Deviation\"].append(round(std_dev, 2))\n",
    "\n",
    "# Convert summary to a DataFrame and display\n",
    "metrics_summary_df = pd.DataFrame(metrics_summary)\n",
    "print(metrics_summary_df)\n"
   ]
  },
  {
   "cell_type": "code",
   "execution_count": null,
   "metadata": {},
   "outputs": [],
   "source": []
  }
 ],
 "metadata": {
  "kernelspec": {
   "display_name": "Python 3",
   "language": "python",
   "name": "python3"
  },
  "language_info": {
   "codemirror_mode": {
    "name": "ipython",
    "version": 3
   },
   "file_extension": ".py",
   "mimetype": "text/x-python",
   "name": "python",
   "nbconvert_exporter": "python",
   "pygments_lexer": "ipython3",
   "version": "3.11.9"
  }
 },
 "nbformat": 4,
 "nbformat_minor": 2
}
