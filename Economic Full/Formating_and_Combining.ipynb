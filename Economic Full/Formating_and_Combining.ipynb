{
 "cells": [
  {
   "cell_type": "code",
   "execution_count": 3,
   "metadata": {},
   "outputs": [],
   "source": [
    "import pandas as pd \n",
    "import numpy as np"
   ]
  },
  {
   "cell_type": "markdown",
   "metadata": {},
   "source": [
    "### GDP Growth Rate"
   ]
  },
  {
   "cell_type": "code",
   "execution_count": 6,
   "metadata": {},
   "outputs": [],
   "source": [
    "df = pd.read_csv(\"GDP_Growth_Rate(1970-2023).csv\")"
   ]
  },
  {
   "cell_type": "code",
   "execution_count": 8,
   "metadata": {},
   "outputs": [
    {
     "data": {
      "text/html": [
       "<div>\n",
       "<style scoped>\n",
       "    .dataframe tbody tr th:only-of-type {\n",
       "        vertical-align: middle;\n",
       "    }\n",
       "\n",
       "    .dataframe tbody tr th {\n",
       "        vertical-align: top;\n",
       "    }\n",
       "\n",
       "    .dataframe thead th {\n",
       "        text-align: right;\n",
       "    }\n",
       "</style>\n",
       "<table border=\"1\" class=\"dataframe\">\n",
       "  <thead>\n",
       "    <tr style=\"text-align: right;\">\n",
       "      <th></th>\n",
       "      <th>Country</th>\n",
       "      <th>Year</th>\n",
       "      <th>GDP_Growth_Rate</th>\n",
       "    </tr>\n",
       "  </thead>\n",
       "  <tbody>\n",
       "    <tr>\n",
       "      <th>0</th>\n",
       "      <td>Africa Eastern and Southern</td>\n",
       "      <td>1970</td>\n",
       "      <td>1.137276</td>\n",
       "    </tr>\n",
       "    <tr>\n",
       "      <th>1</th>\n",
       "      <td>Africa Western and Central</td>\n",
       "      <td>1970</td>\n",
       "      <td>17.566412</td>\n",
       "    </tr>\n",
       "    <tr>\n",
       "      <th>2</th>\n",
       "      <td>Arab World</td>\n",
       "      <td>1970</td>\n",
       "      <td>22.320438</td>\n",
       "    </tr>\n",
       "    <tr>\n",
       "      <th>3</th>\n",
       "      <td>Argentina</td>\n",
       "      <td>1970</td>\n",
       "      <td>3.045643</td>\n",
       "    </tr>\n",
       "    <tr>\n",
       "      <th>4</th>\n",
       "      <td>Australia</td>\n",
       "      <td>1970</td>\n",
       "      <td>7.175799</td>\n",
       "    </tr>\n",
       "  </tbody>\n",
       "</table>\n",
       "</div>"
      ],
      "text/plain": [
       "                       Country  Year  GDP_Growth_Rate\n",
       "0  Africa Eastern and Southern  1970         1.137276\n",
       "1   Africa Western and Central  1970        17.566412\n",
       "2                   Arab World  1970        22.320438\n",
       "3                    Argentina  1970         3.045643\n",
       "4                    Australia  1970         7.175799"
      ]
     },
     "execution_count": 8,
     "metadata": {},
     "output_type": "execute_result"
    }
   ],
   "source": [
    "df['Country'] = df['Country'].replace(\"CÃ´te d'Ivoire\", \"Ivory Coast\")\n",
    "df['Country'] = df['Country'].replace(\"TÃ¼rkiye, Republic of\", \"Turkey\")\n",
    "df['Country'] = df['Country'].replace(\"China, People's Republic of\", \"China\")\n",
    "\n",
    "melted_data = pd.melt(df, id_vars=['Country'], \n",
    "                      value_vars=[str(year) for year in range(1970, 2024)],\n",
    "                      var_name='Year', value_name='GDP_Growth_Rate')\n",
    "\n",
    "melted_data = melted_data.dropna(subset=['GDP_Growth_Rate'])\n",
    "\n",
    "melted_data['Year'] = melted_data['Year'].astype(int)\n",
    "\n",
    "melted_data.reset_index(drop=True, inplace=True)\n",
    "\n",
    "df_cleaned = melted_data[melted_data['GDP_Growth_Rate'] != 'no data']\n",
    "\n",
    "df_cleaned['GDP_Growth_Rate'] = pd.to_numeric(df_cleaned['GDP_Growth_Rate'], errors='coerce')\n",
    "df_cleaned['Year'] = pd.to_numeric(df_cleaned['Year'], errors='coerce')\n",
    "\n",
    "df_cleaned.to_csv('GDP_Growth_Rate_Final.csv', index=False)\n",
    "\n",
    "df_cleaned.head()"
   ]
  },
  {
   "cell_type": "markdown",
   "metadata": {},
   "source": [
    "### GDP per Capita"
   ]
  },
  {
   "cell_type": "code",
   "execution_count": 9,
   "metadata": {},
   "outputs": [
    {
     "data": {
      "text/html": [
       "<div>\n",
       "<style scoped>\n",
       "    .dataframe tbody tr th:only-of-type {\n",
       "        vertical-align: middle;\n",
       "    }\n",
       "\n",
       "    .dataframe tbody tr th {\n",
       "        vertical-align: top;\n",
       "    }\n",
       "\n",
       "    .dataframe thead th {\n",
       "        text-align: right;\n",
       "    }\n",
       "</style>\n",
       "<table border=\"1\" class=\"dataframe\">\n",
       "  <thead>\n",
       "    <tr style=\"text-align: right;\">\n",
       "      <th></th>\n",
       "      <th>Country</th>\n",
       "      <th>Year</th>\n",
       "      <th>GDP_Per_Capita</th>\n",
       "    </tr>\n",
       "  </thead>\n",
       "  <tbody>\n",
       "    <tr>\n",
       "      <th>0</th>\n",
       "      <td>Africa Eastern and Southern</td>\n",
       "      <td>1970</td>\n",
       "      <td>253.382370</td>\n",
       "    </tr>\n",
       "    <tr>\n",
       "      <th>1</th>\n",
       "      <td>Africa Western and Central</td>\n",
       "      <td>1970</td>\n",
       "      <td>219.865368</td>\n",
       "    </tr>\n",
       "    <tr>\n",
       "      <th>2</th>\n",
       "      <td>Andorra</td>\n",
       "      <td>1970</td>\n",
       "      <td>3958.595725</td>\n",
       "    </tr>\n",
       "    <tr>\n",
       "      <th>3</th>\n",
       "      <td>Arab World</td>\n",
       "      <td>1970</td>\n",
       "      <td>351.870854</td>\n",
       "    </tr>\n",
       "    <tr>\n",
       "      <th>4</th>\n",
       "      <td>United Arab Emirates</td>\n",
       "      <td>1970</td>\n",
       "      <td>2301.320102</td>\n",
       "    </tr>\n",
       "  </tbody>\n",
       "</table>\n",
       "</div>"
      ],
      "text/plain": [
       "                       Country  Year  GDP_Per_Capita\n",
       "0  Africa Eastern and Southern  1970      253.382370\n",
       "1   Africa Western and Central  1970      219.865368\n",
       "2                      Andorra  1970     3958.595725\n",
       "3                   Arab World  1970      351.870854\n",
       "4         United Arab Emirates  1970     2301.320102"
      ]
     },
     "execution_count": 9,
     "metadata": {},
     "output_type": "execute_result"
    }
   ],
   "source": [
    "df = pd.read_csv(\"GDP_Per_Capita 1970-2023.csv\")\n",
    "\n",
    "df['Country'] = df['Country'].replace(\"CÃ´te d'Ivoire\", \"Ivory Coast\")\n",
    "df['Country'] = df['Country'].replace(\"TÃ¼rkiye, Republic of\", \"Turkey\")\n",
    "df['Country'] = df['Country'].replace(\"China, People's Republic of\", \"China\")\n",
    "\n",
    "melted_data = pd.melt(df, id_vars=['Country'], \n",
    "                      value_vars=[str(year) for year in range(1970, 2024)],\n",
    "                      var_name='Year', value_name='GDP_Per_Capita')\n",
    "\n",
    "melted_data = melted_data.dropna(subset=['GDP_Per_Capita'])\n",
    "\n",
    "melted_data['Year'] = melted_data['Year'].astype(int)\n",
    "\n",
    "melted_data.reset_index(drop=True, inplace=True)\n",
    "\n",
    "df_cleaned = melted_data[melted_data['GDP_Per_Capita'] != 'no data']\n",
    "\n",
    "df_cleaned['GDP_Per_Capita'] = pd.to_numeric(df_cleaned['GDP_Per_Capita'], errors='coerce')\n",
    "df_cleaned['Year'] = pd.to_numeric(df_cleaned['Year'], errors='coerce')\n",
    "\n",
    "df_cleaned.to_csv('GDP_Per_Capita_Final.csv', index=False)\n",
    "\n",
    "df_cleaned.head()"
   ]
  },
  {
   "cell_type": "markdown",
   "metadata": {},
   "source": [
    "### Inflation Rate"
   ]
  },
  {
   "cell_type": "code",
   "execution_count": 5,
   "metadata": {},
   "outputs": [
    {
     "data": {
      "text/html": [
       "<div>\n",
       "<style scoped>\n",
       "    .dataframe tbody tr th:only-of-type {\n",
       "        vertical-align: middle;\n",
       "    }\n",
       "\n",
       "    .dataframe tbody tr th {\n",
       "        vertical-align: top;\n",
       "    }\n",
       "\n",
       "    .dataframe thead th {\n",
       "        text-align: right;\n",
       "    }\n",
       "</style>\n",
       "<table border=\"1\" class=\"dataframe\">\n",
       "  <thead>\n",
       "    <tr style=\"text-align: right;\">\n",
       "      <th></th>\n",
       "      <th>Country</th>\n",
       "      <th>Year</th>\n",
       "      <th>Inflation_Rate</th>\n",
       "    </tr>\n",
       "  </thead>\n",
       "  <tbody>\n",
       "    <tr>\n",
       "      <th>0</th>\n",
       "      <td>Australia</td>\n",
       "      <td>1970</td>\n",
       "      <td>3.439153</td>\n",
       "    </tr>\n",
       "    <tr>\n",
       "      <th>1</th>\n",
       "      <td>Austria</td>\n",
       "      <td>1970</td>\n",
       "      <td>4.372824</td>\n",
       "    </tr>\n",
       "    <tr>\n",
       "      <th>2</th>\n",
       "      <td>Burundi</td>\n",
       "      <td>1970</td>\n",
       "      <td>-0.199651</td>\n",
       "    </tr>\n",
       "    <tr>\n",
       "      <th>3</th>\n",
       "      <td>Belgium</td>\n",
       "      <td>1970</td>\n",
       "      <td>3.908472</td>\n",
       "    </tr>\n",
       "    <tr>\n",
       "      <th>4</th>\n",
       "      <td>Burkina Faso</td>\n",
       "      <td>1970</td>\n",
       "      <td>1.772603</td>\n",
       "    </tr>\n",
       "  </tbody>\n",
       "</table>\n",
       "</div>"
      ],
      "text/plain": [
       "        Country  Year  Inflation_Rate\n",
       "0     Australia  1970        3.439153\n",
       "1       Austria  1970        4.372824\n",
       "2       Burundi  1970       -0.199651\n",
       "3       Belgium  1970        3.908472\n",
       "4  Burkina Faso  1970        1.772603"
      ]
     },
     "execution_count": 5,
     "metadata": {},
     "output_type": "execute_result"
    }
   ],
   "source": [
    "df = pd.read_csv(\"Inflation Rate_1970-2023.csv\")\n",
    "\n",
    "df['Country'] = df['Country'].replace(\"CÃ´te d'Ivoire\", \"Ivory Coast\")\n",
    "df['Country'] = df['Country'].replace(\"TÃ¼rkiye, Republic of\", \"Turkey\")\n",
    "df['Country'] = df['Country'].replace(\"China, People's Republic of\", \"China\")\n",
    "\n",
    "melted_data = pd.melt(df, id_vars=['Country'], \n",
    "                      value_vars=[str(year) for year in range(1970, 2024)],\n",
    "                      var_name='Year', value_name='Inflation_Rate')\n",
    "\n",
    "melted_data = melted_data.dropna(subset=['Inflation_Rate'])\n",
    "\n",
    "melted_data['Year'] = melted_data['Year'].astype(int)\n",
    "\n",
    "melted_data.reset_index(drop=True, inplace=True)\n",
    "\n",
    "df_cleaned = melted_data[melted_data['Inflation_Rate'] != 'no data']\n",
    "\n",
    "df_cleaned['Inflation_Rate'] = pd.to_numeric(df_cleaned['Inflation_Rate'], errors='coerce')\n",
    "df_cleaned['Year'] = pd.to_numeric(df_cleaned['Year'], errors='coerce')\n",
    "\n",
    "df_cleaned.to_csv('Inflation_Rate_Final.csv', index=False)\n",
    "\n",
    "df_cleaned.head()"
   ]
  },
  {
   "cell_type": "markdown",
   "metadata": {},
   "source": [
    "### Unemployment Rate"
   ]
  },
  {
   "cell_type": "code",
   "execution_count": 11,
   "metadata": {},
   "outputs": [
    {
     "data": {
      "text/html": [
       "<div>\n",
       "<style scoped>\n",
       "    .dataframe tbody tr th:only-of-type {\n",
       "        vertical-align: middle;\n",
       "    }\n",
       "\n",
       "    .dataframe tbody tr th {\n",
       "        vertical-align: top;\n",
       "    }\n",
       "\n",
       "    .dataframe thead th {\n",
       "        text-align: right;\n",
       "    }\n",
       "</style>\n",
       "<table border=\"1\" class=\"dataframe\">\n",
       "  <thead>\n",
       "    <tr style=\"text-align: right;\">\n",
       "      <th></th>\n",
       "      <th>Country</th>\n",
       "      <th>Year</th>\n",
       "      <th>Unemployment_Rate</th>\n",
       "    </tr>\n",
       "  </thead>\n",
       "  <tbody>\n",
       "    <tr>\n",
       "      <th>0</th>\n",
       "      <td>Africa Eastern and Southern</td>\n",
       "      <td>1991</td>\n",
       "      <td>7.710275</td>\n",
       "    </tr>\n",
       "    <tr>\n",
       "      <th>1</th>\n",
       "      <td>Afghanistan</td>\n",
       "      <td>1991</td>\n",
       "      <td>7.946000</td>\n",
       "    </tr>\n",
       "    <tr>\n",
       "      <th>2</th>\n",
       "      <td>Africa Western and Central</td>\n",
       "      <td>1991</td>\n",
       "      <td>4.168123</td>\n",
       "    </tr>\n",
       "    <tr>\n",
       "      <th>3</th>\n",
       "      <td>Angola</td>\n",
       "      <td>1991</td>\n",
       "      <td>16.468000</td>\n",
       "    </tr>\n",
       "    <tr>\n",
       "      <th>4</th>\n",
       "      <td>Albania</td>\n",
       "      <td>1991</td>\n",
       "      <td>10.304000</td>\n",
       "    </tr>\n",
       "  </tbody>\n",
       "</table>\n",
       "</div>"
      ],
      "text/plain": [
       "                       Country  Year  Unemployment_Rate\n",
       "0  Africa Eastern and Southern  1991           7.710275\n",
       "1                  Afghanistan  1991           7.946000\n",
       "2   Africa Western and Central  1991           4.168123\n",
       "3                       Angola  1991          16.468000\n",
       "4                      Albania  1991          10.304000"
      ]
     },
     "execution_count": 11,
     "metadata": {},
     "output_type": "execute_result"
    }
   ],
   "source": [
    "df = pd.read_csv(\"Unemployment_Rate(1991-2023).csv\")\n",
    "\n",
    "df['Country'] = df['Country'].replace(\"CÃ´te d'Ivoire\", \"Ivory Coast\")\n",
    "df['Country'] = df['Country'].replace(\"TÃ¼rkiye, Republic of\", \"Turkey\")\n",
    "df['Country'] = df['Country'].replace(\"China, People's Republic of\", \"China\")\n",
    "\n",
    "melted_data = pd.melt(df, id_vars=['Country'], \n",
    "                      value_vars=[str(year) for year in range(1991, 2024)],\n",
    "                      var_name='Year', value_name='Unemployment_Rate')\n",
    "\n",
    "melted_data = melted_data.dropna(subset=['Unemployment_Rate'])\n",
    "\n",
    "melted_data['Year'] = melted_data['Year'].astype(int)\n",
    "\n",
    "melted_data.reset_index(drop=True, inplace=True)\n",
    "\n",
    "df_cleaned = melted_data[melted_data['Unemployment_Rate'] != 'no data']\n",
    "\n",
    "df_cleaned['Unemployment_Rate'] = pd.to_numeric(df_cleaned['Unemployment_Rate'], errors='coerce')\n",
    "df_cleaned['Year'] = pd.to_numeric(df_cleaned['Year'], errors='coerce')\n",
    "\n",
    "df_cleaned.to_csv('Unemployment_Rate_Final.csv', index=False)\n",
    "\n",
    "df_cleaned.head()"
   ]
  },
  {
   "cell_type": "markdown",
   "metadata": {},
   "source": [
    "### Combine all files to create Economic Index"
   ]
  },
  {
   "cell_type": "code",
   "execution_count": 6,
   "metadata": {},
   "outputs": [],
   "source": [
    "import pandas as pd\n",
    "cost_of_living_df = pd.read_csv('Cost of Living.csv')\n",
    "gdp_growth_rate_df = pd.read_csv('GDP_Growth_Rate_Final.csv')\n",
    "gdp_per_capita_df = pd.read_csv('GDP_Per_Capita_Final.csv')\n",
    "inflation_rate_df = pd.read_csv('Inflation_Rate_Final.csv')\n",
    "unemployment_rate_df = pd.read_csv('Unemployment_Rate_Final.csv')\n",
    "\n",
    "merged_df = pd.merge(gdp_growth_rate_df, inflation_rate_df, on=['Year', 'Country'], how='outer')\n",
    "merged_df = pd.merge(merged_df,gdp_per_capita_df , on=['Year', 'Country'], how='outer')\n",
    "merged_df = pd.merge(merged_df, unemployment_rate_df, on=['Year', 'Country'], how='outer')\n",
    "merged_df = pd.merge(merged_df, cost_of_living_df, on=['Year', 'Country'], how='outer')\n",
    "\n",
    "merged_df.to_csv('Economic_data.csv', index=False)"
   ]
  },
  {
   "cell_type": "markdown",
   "metadata": {},
   "source": [
    "Make the data with all the filled values as traning data and then for testing predict the historical values."
   ]
  },
  {
   "cell_type": "markdown",
   "metadata": {},
   "source": [
    "### Data Imputation"
   ]
  },
  {
   "cell_type": "code",
   "execution_count": null,
   "metadata": {},
   "outputs": [],
   "source": []
  }
 ],
 "metadata": {
  "kernelspec": {
   "display_name": "Python 3",
   "language": "python",
   "name": "python3"
  },
  "language_info": {
   "codemirror_mode": {
    "name": "ipython",
    "version": 3
   },
   "file_extension": ".py",
   "mimetype": "text/x-python",
   "name": "python",
   "nbconvert_exporter": "python",
   "pygments_lexer": "ipython3",
   "version": "3.11.9"
  }
 },
 "nbformat": 4,
 "nbformat_minor": 2
}
