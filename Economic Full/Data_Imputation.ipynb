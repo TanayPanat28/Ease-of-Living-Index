{
 "cells": [
  {
   "cell_type": "code",
   "execution_count": 2,
   "metadata": {},
   "outputs": [],
   "source": [
    "import pandas as pd\n",
    "from sklearn.linear_model import BayesianRidge\n",
    "from sklearn.model_selection import train_test_split"
   ]
  },
  {
   "cell_type": "code",
   "execution_count": 27,
   "metadata": {},
   "outputs": [
    {
     "name": "stderr",
     "output_type": "stream",
     "text": [
      "C:\\Users\\Tanay\\AppData\\Local\\Temp\\ipykernel_15764\\4093805967.py:19: SettingWithCopyWarning: \n",
      "A value is trying to be set on a copy of a slice from a DataFrame.\n",
      "Try using .loc[row_indexer,col_indexer] = value instead\n",
      "\n",
      "See the caveats in the documentation: https://pandas.pydata.org/pandas-docs/stable/user_guide/indexing.html#returning-a-view-versus-a-copy\n",
      "  df_available['Unemployment_Rate'] = fill_na_with_country_mean(df_available, 'Unemployment_Rate')\n"
     ]
    }
   ],
   "source": [
    "from sklearn.metrics import mean_squared_error\n",
    "\n",
    "df = pd.read_csv(\"Economic_data.csv\")\n",
    "\n",
    "relevant_columns = ['Year', 'Country', 'Inflation_Rate', 'GDP_Per_Capita', 'GDP_Growth_Rate', 'Unemployment_Rate']\n",
    "\n",
    "df = df[relevant_columns]\n",
    "\n",
    "def fill_na_with_country_mean(df, column):\n",
    "    return df[column].fillna(df.groupby('Country')[column].transform('mean'))\n",
    "\n",
    "df['Inflation_Rate'] = fill_na_with_country_mean(df, 'Inflation_Rate')\n",
    "df['GDP_Per_Capita'] = fill_na_with_country_mean(df, 'GDP_Per_Capita')\n",
    "df['GDP_Growth_Rate'] = fill_na_with_country_mean(df, 'GDP_Growth_Rate')\n",
    "\n",
    "df_available = df[df['Year'] >= 1991]\n",
    "df_missing = df[df['Year'] < 1991]\n",
    "\n",
    "df_available['Unemployment_Rate'] = fill_na_with_country_mean(df_available, 'Unemployment_Rate')\n",
    "df_available = df_available.dropna()\n",
    "\n",
    "X = df_available[['Inflation_Rate', 'GDP_Per_Capita', 'GDP_Growth_Rate']]\n",
    "y = df_available['Unemployment_Rate']\n",
    "\n",
    "model = BayesianRidge()\n",
    "model.fit(X,y)\n",
    "\n",
    "df_missing = df_missing.dropna(subset=['Inflation_Rate'])\n",
    "X_missing = df_missing[['Inflation_Rate', 'GDP_Per_Capita', 'GDP_Growth_Rate']]\n",
    "df_missing['Unemployment_Rate'] = model.predict(X_missing)\n",
    "\n",
    "df_combined = pd.concat([df_available, df_missing]).sort_values(by='Year')\n",
    "df_combined.to_csv('Testing.csv', index=False)"
   ]
  },
  {
   "cell_type": "code",
   "execution_count": 31,
   "metadata": {},
   "outputs": [],
   "source": [
    "cost_of_living_df = pd.read_csv('Cost of Living.csv')\n",
    "econ_data = pd.read_csv('Testing.csv')\n",
    "\n",
    "econ_data['Country'] = econ_data['Country'].replace(\"Czechia\", \"Czech Republic\")\n",
    "econ_data['Country'] = econ_data['Country'].replace(\"Hong Kong SAR, China\", \"Hong Kong\")\n",
    "econ_data['Country'] = econ_data['Country'].replace(\"Korea, Rep.\", \"South Korea\")\n",
    "econ_data['Country'] = econ_data['Country'].replace(\"Turkiye\", \"Turkey\")\n",
    "econ_data['Country'] = econ_data['Country'].replace(\"Russian Federation\", \"Russia\")\n",
    "econ_data['Country'] = econ_data['Country'].replace(\"Slovak Republic\", \"Slovakia\")\n",
    "econ_data['Country'] = econ_data['Country'].replace(\"Macao SAR, China\", \"Taiwan\")\n",
    "econ_data['Country'] = econ_data['Country'].replace(\"Egypt, Arab Rep.\", \"Egypt\")\n",
    "econ_data['Country'] = econ_data['Country'].replace(\"Iran, Islamic Rep.\", \"Iran\")\n",
    "econ_data['Country'] = econ_data['Country'].replace(\"Viet Nam\", \"Vietnam\")\n",
    "econ_data['Country'] = econ_data['Country'].replace(\"Venezuela, RB\", \"Venezuela\")\n",
    "econ_data['Country'] = econ_data['Country'].replace(\"Bosnia and Herzegovina\", \"Bosnia And Herzegovina\")\n",
    "econ_data['Country'] = econ_data['Country'].replace(\"Syrian Arab Republic\", \"Syria\")\n",
    "\n",
    "\n",
    "merged_df = pd.merge(econ_data, cost_of_living_df, on=['Year', 'Country'], how='left')\n",
    "\n",
    "merged_df.to_csv('Testing_2.csv', index=False)"
   ]
  },
  {
   "cell_type": "code",
   "execution_count": 35,
   "metadata": {},
   "outputs": [],
   "source": [
    "testing_2_df = pd.read_csv('testing_2.csv')\n",
    "countries_with_data_in_2012 = cost_of_living_df[cost_of_living_df['Year'] == 2012]['Country'].unique()\n",
    "filtered_df = testing_2_df[testing_2_df['Country'].isin(countries_with_data_in_2012)]\n",
    "filtered_df.to_csv('testing_3.csv', index=False)"
   ]
  },
  {
   "cell_type": "markdown",
   "metadata": {},
   "source": [
    "### Main imputation"
   ]
  },
  {
   "cell_type": "code",
   "execution_count": 36,
   "metadata": {},
   "outputs": [
    {
     "name": "stderr",
     "output_type": "stream",
     "text": [
      "C:\\Users\\Tanay\\AppData\\Local\\Temp\\ipykernel_15764\\260885079.py:20: SettingWithCopyWarning: \n",
      "A value is trying to be set on a copy of a slice from a DataFrame.\n",
      "Try using .loc[row_indexer,col_indexer] = value instead\n",
      "\n",
      "See the caveats in the documentation: https://pandas.pydata.org/pandas-docs/stable/user_guide/indexing.html#returning-a-view-versus-a-copy\n",
      "  test_data[target] = model.predict(X_test)\n",
      "C:\\Users\\Tanay\\AppData\\Local\\Temp\\ipykernel_15764\\260885079.py:20: SettingWithCopyWarning: \n",
      "A value is trying to be set on a copy of a slice from a DataFrame.\n",
      "Try using .loc[row_indexer,col_indexer] = value instead\n",
      "\n",
      "See the caveats in the documentation: https://pandas.pydata.org/pandas-docs/stable/user_guide/indexing.html#returning-a-view-versus-a-copy\n",
      "  test_data[target] = model.predict(X_test)\n",
      "C:\\Users\\Tanay\\AppData\\Local\\Temp\\ipykernel_15764\\260885079.py:20: SettingWithCopyWarning: \n",
      "A value is trying to be set on a copy of a slice from a DataFrame.\n",
      "Try using .loc[row_indexer,col_indexer] = value instead\n",
      "\n",
      "See the caveats in the documentation: https://pandas.pydata.org/pandas-docs/stable/user_guide/indexing.html#returning-a-view-versus-a-copy\n",
      "  test_data[target] = model.predict(X_test)\n",
      "C:\\Users\\Tanay\\AppData\\Local\\Temp\\ipykernel_15764\\260885079.py:20: SettingWithCopyWarning: \n",
      "A value is trying to be set on a copy of a slice from a DataFrame.\n",
      "Try using .loc[row_indexer,col_indexer] = value instead\n",
      "\n",
      "See the caveats in the documentation: https://pandas.pydata.org/pandas-docs/stable/user_guide/indexing.html#returning-a-view-versus-a-copy\n",
      "  test_data[target] = model.predict(X_test)\n",
      "C:\\Users\\Tanay\\AppData\\Local\\Temp\\ipykernel_15764\\260885079.py:20: SettingWithCopyWarning: \n",
      "A value is trying to be set on a copy of a slice from a DataFrame.\n",
      "Try using .loc[row_indexer,col_indexer] = value instead\n",
      "\n",
      "See the caveats in the documentation: https://pandas.pydata.org/pandas-docs/stable/user_guide/indexing.html#returning-a-view-versus-a-copy\n",
      "  test_data[target] = model.predict(X_test)\n",
      "C:\\Users\\Tanay\\AppData\\Local\\Temp\\ipykernel_15764\\260885079.py:20: SettingWithCopyWarning: \n",
      "A value is trying to be set on a copy of a slice from a DataFrame.\n",
      "Try using .loc[row_indexer,col_indexer] = value instead\n",
      "\n",
      "See the caveats in the documentation: https://pandas.pydata.org/pandas-docs/stable/user_guide/indexing.html#returning-a-view-versus-a-copy\n",
      "  test_data[target] = model.predict(X_test)\n"
     ]
    }
   ],
   "source": [
    "from sklearn.ensemble import RandomForestRegressor\n",
    "data = pd.read_csv('testing_3.csv')\n",
    "\n",
    "features = ['Inflation_Rate', 'GDP_Per_Capita', 'GDP_Growth_Rate', 'Unemployment_Rate']\n",
    "targets = ['Cost of Living Index', 'Rent Index', 'Cost of Living Plus Rent Index', \n",
    "           'Groceries Index', 'Restaurant Price Index', 'Local Purchasing Power Index']\n",
    "\n",
    "train_data = data[data['Year'] >= 2012].dropna(subset=targets)\n",
    "test_data = data[data['Year'] < 2012]\n",
    "\n",
    "for target in targets:\n",
    "    X_train = train_data[features]\n",
    "    y_train = train_data[target]\n",
    "    \n",
    "    model = RandomForestRegressor(n_estimators=100, random_state=42)\n",
    "\n",
    "    model.fit(X_train, y_train)\n",
    "\n",
    "    X_test = test_data[features]\n",
    "    test_data[target] = model.predict(X_test)\n",
    "\n",
    "test_data.to_csv('imputed_data_1970_2011.csv', index=False)"
   ]
  },
  {
   "cell_type": "code",
   "execution_count": null,
   "metadata": {},
   "outputs": [],
   "source": []
  }
 ],
 "metadata": {
  "kernelspec": {
   "display_name": "Python 3",
   "language": "python",
   "name": "python3"
  },
  "language_info": {
   "codemirror_mode": {
    "name": "ipython",
    "version": 3
   },
   "file_extension": ".py",
   "mimetype": "text/x-python",
   "name": "python",
   "nbconvert_exporter": "python",
   "pygments_lexer": "ipython3",
   "version": "3.11.9"
  }
 },
 "nbformat": 4,
 "nbformat_minor": 2
}
