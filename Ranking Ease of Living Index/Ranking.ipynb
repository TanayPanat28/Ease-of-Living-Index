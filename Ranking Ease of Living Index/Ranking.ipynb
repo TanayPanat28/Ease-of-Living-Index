{
 "cells": [
  {
   "cell_type": "code",
   "execution_count": 1,
   "metadata": {},
   "outputs": [],
   "source": [
    "import pandas as pd\n",
    "import numpy as np"
   ]
  },
  {
   "cell_type": "code",
   "execution_count": 19,
   "metadata": {},
   "outputs": [],
   "source": [
    "data = pd.read_csv(\"Ease_Of_Living_Index_Final.csv\")\n",
    "data_sus = pd.read_csv(\"Sustainability_index.csv\")"
   ]
  },
  {
   "cell_type": "code",
   "execution_count": 20,
   "metadata": {},
   "outputs": [],
   "source": [
    "data_sus['Sustainability_Rank'] = data_sus.groupby('Year')['Sustainability_index_FA'].rank(ascending=False, method='dense').astype(int)"
   ]
  },
  {
   "cell_type": "code",
   "execution_count": 21,
   "metadata": {},
   "outputs": [],
   "source": [
    "data['Economic_Rank'] = data.groupby('Year')['Econ_Index'].rank(ascending=False, method='dense').astype(int)\n",
    "data['Institutional_Rank'] = data.groupby('Year')['Institutional_Index'].rank(ascending=False, method='dense').astype(int)\n",
    "data['Quality_of_Life_Rank'] = data.groupby('Year')['Quality_Of_Life_Index_FA'].rank(ascending=False, method='dense').astype(int)\n",
    "data['Ease_of_Living_Rank'] = data.groupby('Year')['Ease_of_Living_Index'].rank(ascending=False, method='dense').astype(int)\n",
    "data['Sustainability_Rank'] = data.groupby('Year')['Sustainability_Rank'].rank(ascending=False, method='dense').astype(int)"
   ]
  },
  {
   "cell_type": "code",
   "execution_count": 15,
   "metadata": {},
   "outputs": [],
   "source": [
    "composite_df.to_csv(\"All_Index_ranking.csv\", index=False)"
   ]
  },
  {
   "cell_type": "code",
   "execution_count": 6,
   "metadata": {},
   "outputs": [],
   "source": [
    "data['Rank'] = data.groupby('Year')['Ease_of_Living_Index'].rank(ascending=False, method='dense').astype(int)"
   ]
  },
  {
   "cell_type": "code",
   "execution_count": 7,
   "metadata": {},
   "outputs": [],
   "source": [
    "ranked_data = data[['Year', 'Country', 'Rank']]\n",
    "\n",
    "ranked_data.to_csv(\"EOLI_Ranking.csv\", index = False)"
   ]
  },
  {
   "cell_type": "code",
   "execution_count": 8,
   "metadata": {},
   "outputs": [
    {
     "name": "stdout",
     "output_type": "stream",
     "text": [
      "          Country  Economic_Rank  Institutional_Rank  Quality_of_Life_Rank  \\\n",
      "0       Australia            7.4                10.1                   7.5   \n",
      "1          Canada           17.8                 9.1                  12.4   \n",
      "2           China           37.6                63.3                  71.8   \n",
      "3         Germany           23.6                12.6                   4.4   \n",
      "4           India           49.7                58.9                  80.0   \n",
      "5           Japan            7.7                16.9                  17.6   \n",
      "6        Malaysia           56.7                39.8                  54.6   \n",
      "7  United Kingdom           17.4                13.4                  15.1   \n",
      "8   United States           16.1                18.3                  15.9   \n",
      "\n",
      "   Ease_of_Living_Rank  Sustainability_Rank  \n",
      "0                  4.2                  6.0  \n",
      "1                  9.1                  9.4  \n",
      "2                 52.9                 27.6  \n",
      "3                 17.3                 24.8  \n",
      "4                 66.4                 77.5  \n",
      "5                  9.1                 13.5  \n",
      "6                 46.4                 19.2  \n",
      "7                 16.1                 29.8  \n",
      "8                 12.8                  7.3  \n"
     ]
    }
   ],
   "source": [
    "file_path = 'All_Index_ranking.csv'  # Change to your actual file path\n",
    "data = pd.read_csv(file_path)\n",
    "\n",
    "# Define the countries and time range for filtering\n",
    "selected_countries = [\"India\", \"United States\", \"China\", \"Australia\", \"Malaysia\", \"Canada\", \"Germany\", \"United Kingdom\", \"Japan\"]\n",
    "last_decade = range(2011, 2021)\n",
    "\n",
    "# Filter data for selected countries and years\n",
    "filtered_data = data[(data['Country'].isin(selected_countries)) & (data['Year'].isin(last_decade))]\n",
    "\n",
    "# Identify columns available for averaging, including sub-indices and optional 'Sustainability_Rank'\n",
    "columns_to_average = [col for col in ['Economic_Rank', 'Institutional_Rank', 'Quality_of_Life_Rank', 'Ease_of_Living_Rank', 'Sustainability_Rank'] if col in filtered_data.columns]\n",
    "\n",
    "# Calculate average rankings for each selected country\n",
    "average_ranking = filtered_data.groupby('Country')[columns_to_average].mean().reset_index()\n",
    "\n",
    "# Display the result\n",
    "print(average_ranking)"
   ]
  },
  {
   "cell_type": "code",
   "execution_count": null,
   "metadata": {},
   "outputs": [],
   "source": []
  }
 ],
 "metadata": {
  "kernelspec": {
   "display_name": "Python 3",
   "language": "python",
   "name": "python3"
  },
  "language_info": {
   "codemirror_mode": {
    "name": "ipython",
    "version": 3
   },
   "file_extension": ".py",
   "mimetype": "text/x-python",
   "name": "python",
   "nbconvert_exporter": "python",
   "pygments_lexer": "ipython3",
   "version": "3.11.9"
  }
 },
 "nbformat": 4,
 "nbformat_minor": 2
}
