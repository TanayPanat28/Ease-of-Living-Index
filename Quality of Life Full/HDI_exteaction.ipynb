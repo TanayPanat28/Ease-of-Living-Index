{
 "cells": [
  {
   "cell_type": "code",
   "execution_count": 1,
   "metadata": {},
   "outputs": [],
   "source": [
    "import pandas as pd\n",
    "\n",
    "df = pd.read_csv('Human Development Index - Full.csv')\n",
    "\n",
    "carbon_columns = [col for col in df.columns if 'Carbon dioxide emissions per capita (production)' in col]\n",
    "gender_inequality_columns = [col for col in df.columns if 'Gender Inequality Index' in col]\n",
    "gender_development_columns = [col for col in df.columns if 'Gender Development Index' in col]\n",
    "schooling_columns = [col for col in df.columns if 'Expected years of schooling (years)' in col]\n",
    "life_expectancy_columns = [col for col in df.columns if 'Life expectancy at birth (years)' in col]\n",
    "hdi_columns = [col for col in df.columns if 'Human Development Index' in col]\n",
    "\n",
    "all_relevant_columns = ['Country'] + carbon_columns + gender_inequality_columns + \\\n",
    "                       gender_development_columns + schooling_columns + life_expectancy_columns + hdi_columns\n",
    "\n",
    "filtered_df = df[all_relevant_columns]\n",
    "\n",
    "melted_df = filtered_df.melt(id_vars=['Country'], \n",
    "                             var_name='Indicator_Year', \n",
    "                             value_name='Value')\n",
    "\n",
    "melted_df['Year'] = melted_df['Indicator_Year'].str.extract(r'(\\d{4})')\n",
    "melted_df['Indicator'] = melted_df['Indicator_Year'].str.replace(r' \\(\\d{4}\\)', '', regex=True)\n",
    "\n",
    "melted_df = melted_df.drop(columns=['Indicator_Year'])\n",
    "\n",
    "reshaped_df = melted_df.pivot_table(index=['Country', 'Year'], \n",
    "                                    columns='Indicator', \n",
    "                                    values='Value', \n",
    "                                    aggfunc='first').reset_index()\n",
    "\n",
    "reshaped_df.to_csv('HDI_Index.csv', index=False)"
   ]
  },
  {
   "cell_type": "code",
   "execution_count": null,
   "metadata": {},
   "outputs": [],
   "source": []
  }
 ],
 "metadata": {
  "kernelspec": {
   "display_name": "Python 3",
   "language": "python",
   "name": "python3"
  },
  "language_info": {
   "codemirror_mode": {
    "name": "ipython",
    "version": 3
   },
   "file_extension": ".py",
   "mimetype": "text/x-python",
   "name": "python",
   "nbconvert_exporter": "python",
   "pygments_lexer": "ipython3",
   "version": "3.11.9"
  }
 },
 "nbformat": 4,
 "nbformat_minor": 2
}
