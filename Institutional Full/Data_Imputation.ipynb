{
 "cells": [
  {
   "cell_type": "code",
   "execution_count": 10,
   "metadata": {},
   "outputs": [],
   "source": [
    "import pandas as pd\n",
    "import numpy as np\n",
    "\n",
    "file_path = 'Institutional_data_full.csv'\n",
    "data = pd.read_csv(file_path)\n",
    "\n",
    "data.replace('..', np.nan, inplace=True)\n",
    "\n",
    "data.iloc[:, 2:] = data.iloc[:, 2:].apply(pd.to_numeric, errors='coerce')\n",
    "\n",
    "missing_years = pd.DataFrame({\n",
    "    'Country Name': data['Country Name'].unique().repeat(6), \n",
    "    'Year': list(range(1990, 1996)) * len(data['Country Name'].unique())\n",
    "})\n",
    "\n",
    "data_full = pd.concat([data, missing_years], ignore_index=True)\n",
    "\n",
    "data_full.sort_values(by=['Country Name', 'Year'], inplace=True)\n",
    "\n",
    "numerical_columns = data_full.columns[2:]\n",
    "\n",
    "data_full[numerical_columns] = data_full[numerical_columns].apply(pd.to_numeric, errors='coerce')\n",
    "\n",
    "data_full_interpolated = data_full.copy()\n",
    "data_full_interpolated[numerical_columns] = data_full_interpolated[numerical_columns].interpolate(method='linear')\n",
    "\n",
    "data_full_interpolated = data_full_interpolated.round(3)\n",
    "\n",
    "data_full_interpolated.to_csv('Interpolated_Institutional_Data.csv', index=False)"
   ]
  },
  {
   "cell_type": "code",
   "execution_count": null,
   "metadata": {},
   "outputs": [],
   "source": []
  }
 ],
 "metadata": {
  "kernelspec": {
   "display_name": "Python 3",
   "language": "python",
   "name": "python3"
  },
  "language_info": {
   "codemirror_mode": {
    "name": "ipython",
    "version": 3
   },
   "file_extension": ".py",
   "mimetype": "text/x-python",
   "name": "python",
   "nbconvert_exporter": "python",
   "pygments_lexer": "ipython3",
   "version": "3.11.9"
  }
 },
 "nbformat": 4,
 "nbformat_minor": 2
}
