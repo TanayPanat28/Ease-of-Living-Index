{
 "cells": [
  {
   "cell_type": "code",
   "execution_count": 1,
   "metadata": {},
   "outputs": [],
   "source": [
    "import pandas as pd"
   ]
  },
  {
   "cell_type": "code",
   "execution_count": 3,
   "metadata": {},
   "outputs": [],
   "source": [
    "doctors_per_10000 = pd.read_csv('Doctors_Per_10000_Final.csv')\n",
    "access_to_electricity = pd.read_csv('Access_to_Electricity_Final.csv')\n",
    "healthcare_data = pd.read_csv('All_countries_healthcare_data.csv')\n",
    "crime_rate_data = pd.read_csv('crimerate_data_all_countries.csv')\n",
    "hdi_index = pd.read_csv('HDI_Index.csv')\n",
    "le_at_birth = pd.read_csv('LE_at_birth_Final.csv')"
   ]
  },
  {
   "cell_type": "code",
   "execution_count": 4,
   "metadata": {},
   "outputs": [],
   "source": [
    "merged_df = pd.merge(le_at_birth, doctors_per_10000, on=['Year', 'Country'], how='outer')\n",
    "merged_df = pd.merge(merged_df, access_to_electricity, on=['Year', 'Country'], how='outer')\n",
    "merged_df = pd.merge(merged_df, hdi_index, on=['Year', 'Country'], how='outer')\n",
    "merged_df = pd.merge(merged_df, healthcare_data, on=['Year', 'Country'], how='outer')\n",
    "merged_df = pd.merge(merged_df, crime_rate_data, on=['Year', 'Country'], how='outer')\n",
    "\n",
    "merged_df.to_csv('Quality_of_Life_final.csv', index=False)"
   ]
  }
 ],
 "metadata": {
  "kernelspec": {
   "display_name": "Python 3",
   "language": "python",
   "name": "python3"
  },
  "language_info": {
   "codemirror_mode": {
    "name": "ipython",
    "version": 3
   },
   "file_extension": ".py",
   "mimetype": "text/x-python",
   "name": "python",
   "nbconvert_exporter": "python",
   "pygments_lexer": "ipython3",
   "version": "3.11.9"
  }
 },
 "nbformat": 4,
 "nbformat_minor": 2
}
