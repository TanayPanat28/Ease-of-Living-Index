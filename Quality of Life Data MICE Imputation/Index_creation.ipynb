{
 "cells": [
  {
   "cell_type": "code",
   "execution_count": 1,
   "metadata": {},
   "outputs": [],
   "source": [
    "import pandas as pd\n",
    "from sklearn.decomposition import PCA\n",
    "import matplotlib.pyplot as plt\n",
    "import scipy.stats as stats\n",
    "from sklearn.preprocessing import StandardScaler\n",
    "from factor_analyzer.factor_analyzer import calculate_kmo\n",
    "from sklearn.decomposition import FactorAnalysis"
   ]
  },
  {
   "cell_type": "code",
   "execution_count": 2,
   "metadata": {},
   "outputs": [
    {
     "name": "stdout",
     "output_type": "stream",
     "text": [
      "PC1: 65.80% variance explained\n",
      "PC2: 10.85% variance explained\n",
      "PC3: 6.94% variance explained\n",
      "PC4: 5.44% variance explained\n",
      "PC5: 4.38% variance explained\n",
      "PC6: 3.27% variance explained\n",
      "PC7: 1.79% variance explained\n",
      "PC8: 0.94% variance explained\n",
      "PC9: 0.60% variance explained\n"
     ]
    }
   ],
   "source": [
    "data = pd.read_csv(\"Healthcare_Imputation.csv\")\n",
    "\n",
    "numeric_data = data.drop(columns=['Country', 'Year'])\n",
    "\n",
    "numeric_data_standardized = (numeric_data - numeric_data.mean()) / numeric_data.std()\n",
    "\n",
    "pca = PCA()\n",
    "pca.fit(numeric_data_standardized)\n",
    "\n",
    "explained_variance_ratio = pca.explained_variance_ratio_\n",
    "eigenvalues = pca.explained_variance_\n",
    "\n",
    "for i, var in enumerate(explained_variance_ratio, start=1):\n",
    "    print(f\"PC{i}: {var * 100:.2f}% variance explained\")"
   ]
  },
  {
   "cell_type": "markdown",
   "metadata": {},
   "source": [
    "#### Implementing Factor Analysis"
   ]
  },
  {
   "cell_type": "code",
   "execution_count": 3,
   "metadata": {},
   "outputs": [
    {
     "data": {
      "text/plain": [
       "np.float64(0.8867331471520873)"
      ]
     },
     "execution_count": 3,
     "metadata": {},
     "output_type": "execute_result"
    }
   ],
   "source": [
    "scaler = StandardScaler()\n",
    "df_scaled = scaler.fit_transform(numeric_data)\n",
    "\n",
    "kmo_all,kmo_model=calculate_kmo(df_scaled)\n",
    "kmo_model"
   ]
  },
  {
   "cell_type": "code",
   "execution_count": 4,
   "metadata": {},
   "outputs": [
    {
     "data": {
      "text/plain": [
       "array([5.92194719, 0.97610803, 0.62461617, 0.48943683, 0.39387961,\n",
       "       0.29424215, 0.16147322, 0.08442577, 0.05387104])"
      ]
     },
     "execution_count": 4,
     "metadata": {},
     "output_type": "execute_result"
    }
   ],
   "source": [
    "from factor_analyzer import FactorAnalyzer\n",
    "fa = FactorAnalyzer()\n",
    "fa.fit(df_scaled)\n",
    "eigen_values, vectors = fa.get_eigenvalues()\n",
    "eigen_values"
   ]
  },
  {
   "cell_type": "code",
   "execution_count": 5,
   "metadata": {},
   "outputs": [
    {
     "data": {
      "image/png": "[encoded data removed]",
      "text/plain": [
       "<Figure size 640x480 with 1 Axes>"
      ]
     },
     "metadata": {},
     "output_type": "display_data"
    }
   ],
   "source": [
    "import matplotlib.pyplot as plt\n",
    "plt.scatter(range(1,df_scaled.shape[1]+1),eigen_values)\n",
    "plt.plot(range(1,df_scaled.shape[1]+1),eigen_values)\n",
    "plt.title('Scree Plot')\n",
    "plt.xlabel('Factors')\n",
    "plt.ylabel('Eigenvalue')\n",
    "plt.show()"
   ]
  },
  {
   "cell_type": "code",
   "execution_count": 6,
   "metadata": {},
   "outputs": [],
   "source": [
    "columns_for_fa = [\n",
    "        'LE_at_birth','Doctors_Per_10000','Access_to_Electricity','Carbon_dioxide_emissions_per_capita_production_tonnes',\n",
    "        'Gender_Development_Index','Gender_Inequality_Index','Human_Development_Index','Health_Care_Index','Crime_Index'\n",
    "]\n",
    "\n",
    "data_filled = data[columns_for_fa]\n",
    "\n",
    "scaler = StandardScaler()\n",
    "data_scaled = scaler.fit_transform(data_filled)\n",
    "\n",
    "fa = FactorAnalysis(n_components=1)\n",
    "\n",
    "factor_scores = fa.fit_transform(data_scaled)\n",
    "\n",
    "data['QOLI_Index_FA'] = factor_scores.round(3)\n",
    "\n",
    "pca = PCA(n_components=1)\n",
    "pca_scores = pca.fit_transform(data_scaled)\n",
    "data['QOLI_Index_PCA'] = pca_scores.round(3)\n",
    "\n",
    "data.to_csv(\"QOLI_Index.csv\", index=False)"
   ]
  },
  {
   "cell_type": "code",
   "execution_count": null,
   "metadata": {},
   "outputs": [],
   "source": []
  }
 ],
 "metadata": {
  "kernelspec": {
   "display_name": "Python 3",
   "language": "python",
   "name": "python3"
  },
  "language_info": {
   "codemirror_mode": {
    "name": "ipython",
    "version": 3
   },
   "file_extension": ".py",
   "mimetype": "text/x-python",
   "name": "python",
   "nbconvert_exporter": "python",
   "pygments_lexer": "ipython3",
   "version": "3.11.9"
  }
 },
 "nbformat": 4,
 "nbformat_minor": 2
}
